{
 "cells": [
  {
   "cell_type": "code",
   "execution_count": 64,
   "id": "growing-consultation",
   "metadata": {},
   "outputs": [],
   "source": [
    "#Install xlrd and openpyxl using pip command before executing the file\n",
    "\n",
    "import pandas as pd\n",
    "import numpy as np"
   ]
  },
  {
   "cell_type": "code",
   "execution_count": 65,
   "id": "acting-wednesday",
   "metadata": {},
   "outputs": [],
   "source": [
    "#df1,df2,df3,df4,df5,df6 and df7 are dataframes that contain the sheets related to Detail_67 \n",
    "\n",
    "df1 = pd.read_excel('data.xlsx','Detail_67_1_1')\n",
    "df2 = pd.read_excel('data.xlsx','Detail_67_1_1_1')\n",
    "df3 = pd.read_excel('data.xlsx','Detail_67_1_1_2')\n",
    "df4 = pd.read_excel('data.xlsx','Detail_67_1_1_3')\n",
    "df5 = pd.read_excel('data.xlsx','Detail_67_1_1_4')\n",
    "df6 = pd.read_excel('data.xlsx','Detail_67_1_1_5')\n",
    "df7 = pd.read_excel('data.xlsx','Detail_67_1_1_6')"
   ]
  },
  {
   "cell_type": "code",
   "execution_count": 66,
   "id": "impaired-chocolate",
   "metadata": {},
   "outputs": [],
   "source": [
    "#df8 is formed by appending df1 - df7\n",
    "#df_list is a list of dataframes df1 - df7\n",
    "\n",
    "df8 = pd.DataFrame()\n",
    "df_list = [df1,df2,df3,df4,df5,df6,df7]\n",
    "for dataframe in df_list:\n",
    "    df8 = df8.append(dataframe, ignore_index = True)"
   ]
  },
  {
   "cell_type": "code",
   "execution_count": 67,
   "id": "manual-nightmare",
   "metadata": {},
   "outputs": [],
   "source": [
    "#df9,df10,df11,df12,df13,df14 and df15 are dataframes that contain the sheets related to DetailVol_67 \n",
    "\n",
    "df9 = pd.read_excel('data.xlsx','DetailVol_67_1_1')\n",
    "df10 = pd.read_excel('data.xlsx','DetailVol_67_1_1_1')\n",
    "df11 = pd.read_excel('data.xlsx','DetailVol_67_1_1_2')\n",
    "df12 = pd.read_excel('data.xlsx','DetailVol_67_1_1_3')\n",
    "df13 = pd.read_excel('data.xlsx','DetailVol_67_1_1_4')\n",
    "df14 = pd.read_excel('data.xlsx','DetailVol_67_1_1_5')\n",
    "df15 = pd.read_excel('data.xlsx','DetailVol_67_1_1_6')"
   ]
  },
  {
   "cell_type": "code",
   "execution_count": 68,
   "id": "theoretical-circle",
   "metadata": {},
   "outputs": [],
   "source": [
    "#df16 is formed by appending df9 - df15\n",
    "#df_list_1 is a list of dataframes df9 - df15\n",
    "\n",
    "df16 = pd.DataFrame()\n",
    "df_list_1 = [df9,df10,df11,df12,df13,df14,df15]\n",
    "for dataframe in df_list_1:\n",
    "    df16 = df16.append(dataframe, ignore_index = True)"
   ]
  },
  {
   "cell_type": "code",
   "execution_count": 69,
   "id": "urban-orleans",
   "metadata": {},
   "outputs": [],
   "source": [
    "#df17,df18,df19,df20,df21,df22 and df23 are dataframes that contain the sheets related to DetailTemp_67 \n",
    "\n",
    "df17 = pd.read_excel('data.xlsx','DetailTemp_67_1_1')\n",
    "df18 = pd.read_excel('data.xlsx','DetailTemp_67_1_1_1')\n",
    "df19 = pd.read_excel('data.xlsx','DetailTemp_67_1_1_2')\n",
    "df20 = pd.read_excel('data_1.xlsx','DetailTemp_67_1_1_3')\n",
    "df21 = pd.read_excel('data_1.xlsx','DetailTemp_67_1_1_4')\n",
    "df22 = pd.read_excel('data_1.xlsx','DetailTemp_67_1_1_5')\n",
    "df23 = pd.read_excel('data_1.xlsx','DetailTemp_67_1_1_6')"
   ]
  },
  {
   "cell_type": "code",
   "execution_count": 70,
   "id": "brazilian-greeting",
   "metadata": {},
   "outputs": [],
   "source": [
    "#df24 is formed by appending df17 - df23\n",
    "#df_list_2 is a list of dataframes df17 - df23\n",
    "\n",
    "df24 = pd.DataFrame()\n",
    "df_list_2 = [df17,df18,df19,df20,df21,df22,df23]\n",
    "for dataframe in df_list_2:\n",
    "    df24 = df24.append(dataframe, ignore_index = True)"
   ]
  },
  {
   "cell_type": "code",
   "execution_count": 74,
   "id": "residential-morocco",
   "metadata": {},
   "outputs": [],
   "source": [
    "#df8 is saved as detail.csv\n",
    "#df16 is saved as detailVol.csv\n",
    "#df24 is saved as detailTemp.csv\n",
    "\n",
    "df8.to_csv('detail.csv')\n",
    "df16.to_csv('detailVol.csv')\n",
    "df24.to_csv('detailTemp.csv')"
   ]
  }
 ],
 "metadata": {
  "kernelspec": {
   "display_name": "Python 3",
   "language": "python",
   "name": "python3"
  },
  "language_info": {
   "codemirror_mode": {
    "name": "ipython",
    "version": 3
   },
   "file_extension": ".py",
   "mimetype": "text/x-python",
   "name": "python",
   "nbconvert_exporter": "python",
   "pygments_lexer": "ipython3",
   "version": "3.9.0"
  }
 },
 "nbformat": 4,
 "nbformat_minor": 5
}
