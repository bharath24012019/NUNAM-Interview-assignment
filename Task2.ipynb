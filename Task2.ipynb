{
 "cells": [
  {
   "cell_type": "code",
   "execution_count": 2,
   "id": "intended-league",
   "metadata": {},
   "outputs": [],
   "source": [
    "#Install xlrd and openpyxl using pip command before executing the file\n",
    "\n",
    "import pandas as pd\n",
    "import numpy as np"
   ]
  },
  {
   "cell_type": "code",
   "execution_count": 3,
   "id": "toxic-introduction",
   "metadata": {},
   "outputs": [],
   "source": [
    "#Using Pandas dataframes to read 'detail.csv' , 'detailVol.csv' and 'detailTemp.csv'\n",
    "#df1 ----> detail.csv\n",
    "#df2 ----> detailVol.csv\n",
    "#df3 ----> detailTemp.csv\n",
    "\n",
    "df1 = pd.read_csv('detail.csv')\n",
    "df2 = pd.read_csv('detailVol.csv')\n",
    "df3 = pd.read_csv('detailTemp.csv')"
   ]
  },
  {
   "cell_type": "code",
   "execution_count": 11,
   "id": "economic-millennium",
   "metadata": {},
   "outputs": [],
   "source": [
    "#The 'Absolute Time' and 'Realtime' objects are converted to datatime64 in df1, df2 and df3\n",
    "\n",
    "df1['Absolute Time'] = df1['Absolute Time'].astype('datetime64')\n",
    "df2['Realtime'] = df2['Realtime'].astype('datetime64')\n",
    "df3['Realtime'] = df3['Realtime'].astype('datetime64')"
   ]
  },
  {
   "cell_type": "code",
   "execution_count": 13,
   "id": "formal-queen",
   "metadata": {},
   "outputs": [],
   "source": [
    "#df4, df5 and df6 are downsampled versions of df1, df2 and df3 respectively\n",
    "\n",
    "df4 = df1.resample('60s', on='Absolute Time').first()\n",
    "df5 = df2.resample('60s', on='Realtime').first()\n",
    "df6 = df3.resample('60s', on='Realtime').first()"
   ]
  },
  {
   "cell_type": "code",
   "execution_count": 17,
   "id": "injured-explosion",
   "metadata": {},
   "outputs": [],
   "source": [
    "#df4 stored as 'detailDownsampled.csv'\n",
    "#df5 stored as 'detailVolDownsampled.csv'\n",
    "#df6 stored as 'detailTempDownsampled.csv'\n",
    "\n",
    "df4.to_csv('detailDownsampled.csv')\n",
    "df5.to_csv('detailVolDownsampled.csv')\n",
    "df6.to_csv('detailTempDownsampled.csv')"
   ]
  }
 ],
 "metadata": {
  "kernelspec": {
   "display_name": "Python 3",
   "language": "python",
   "name": "python3"
  },
  "language_info": {
   "codemirror_mode": {
    "name": "ipython",
    "version": 3
   },
   "file_extension": ".py",
   "mimetype": "text/x-python",
   "name": "python",
   "nbconvert_exporter": "python",
   "pygments_lexer": "ipython3",
   "version": "3.9.0"
  }
 },
 "nbformat": 4,
 "nbformat_minor": 5
}
